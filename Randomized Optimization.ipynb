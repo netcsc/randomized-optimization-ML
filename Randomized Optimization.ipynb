{
 "cells": [
  {
   "cell_type": "markdown",
   "metadata": {},
   "source": [
    "# Randomized Optimization"
   ]
  },
  {
   "cell_type": "code",
   "execution_count": 1,
   "metadata": {},
   "outputs": [],
   "source": [
    "import mlrose\n",
    "import numpy as np\n",
    "\n",
    "from sklearn.model_selection import train_test_split\n",
    "from sklearn.preprocessing import MinMaxScaler, OneHotEncoder\n",
    "from sklearn.metrics import accuracy_score"
   ]
  },
  {
   "cell_type": "code",
   "execution_count": 6,
   "metadata": {},
   "outputs": [],
   "source": [
    "# Initialize fitness function object using pre-defined class\n",
    "fitness = mlrose.Queens()"
   ]
  },
  {
   "cell_type": "code",
   "execution_count": 7,
   "metadata": {},
   "outputs": [],
   "source": [
    "# Define optimization problem object\n",
    "problem = mlrose.DiscreteOpt(length = 8, fitness_fn = fitness, maximize=False, max_val=8)"
   ]
  },
  {
   "cell_type": "code",
   "execution_count": 8,
   "metadata": {},
   "outputs": [],
   "source": [
    "# Define decay schedule\n",
    "schedule = mlrose.ExpDecay()"
   ]
  },
  {
   "cell_type": "code",
   "execution_count": 9,
   "metadata": {},
   "outputs": [],
   "source": [
    "\n",
    "# Solve using simulated annealing - attempt 1         \n",
    "init_state = np.array([0, 1, 2, 3, 4, 5, 6, 7])\n",
    "best_state, best_fitness = mlrose.simulated_annealing(problem, schedule = schedule, max_attempts = 10, \n",
    "                                                      max_iters = 1000, init_state = init_state,\n",
    "                                                      random_state = 1)"
   ]
  },
  {
   "cell_type": "code",
   "execution_count": 10,
   "metadata": {},
   "outputs": [
    {
     "name": "stdout",
     "output_type": "stream",
     "text": [
      "The best state found is:  [6 4 7 3 6 2 5 1]\n"
     ]
    }
   ],
   "source": [
    "print('The best state found is: ', best_state)\n"
   ]
  },
  {
   "cell_type": "code",
   "execution_count": 11,
   "metadata": {},
   "outputs": [
    {
     "name": "stdout",
     "output_type": "stream",
     "text": [
      "The fitness at the best state is:  2.0\n"
     ]
    }
   ],
   "source": [
    "print('The fitness at the best state is: ', best_fitness)\n"
   ]
  },
  {
   "cell_type": "code",
   "execution_count": 12,
   "metadata": {},
   "outputs": [],
   "source": [
    "\n",
    "# Solve using simulated annealing - attempt 2\n",
    "best_state, best_fitness = mlrose.simulated_annealing(problem, schedule = schedule, max_attempts = 100, \n",
    "                                                      max_iters = 1000, init_state = init_state,\n",
    "                                                      random_state = 1)"
   ]
  },
  {
   "cell_type": "code",
   "execution_count": 13,
   "metadata": {},
   "outputs": [
    {
     "name": "stdout",
     "output_type": "stream",
     "text": [
      "The best state found is:  [4 1 3 5 7 2 0 6]\n"
     ]
    }
   ],
   "source": [
    "print('The best state found is: ', best_state)\n"
   ]
  },
  {
   "cell_type": "code",
   "execution_count": 14,
   "metadata": {},
   "outputs": [
    {
     "name": "stdout",
     "output_type": "stream",
     "text": [
      "0.0\n"
     ]
    }
   ],
   "source": [
    "print(best_fitness)\n"
   ]
  },
  {
   "cell_type": "markdown",
   "metadata": {},
   "source": [
    "# TSP"
   ]
  },
  {
   "cell_type": "code",
   "execution_count": 3,
   "metadata": {},
   "outputs": [
    {
     "name": "stdout",
     "output_type": "stream",
     "text": [
      "2000\n",
      "{'hc': [], 'sa': [], 'ga': [], 'mimic': []}\n",
      "[ 0  1  2  3  4  5  6  7  8  9 10 11 12 13 14 15 16 17 18 19 20 21 22 23\n",
      " 24 25 26 27 28 29 30 31 32 33 34 35 36 37 38 39 40 41 42 43 44 45 46 47\n",
      " 48 49]\n",
      "-507.331941002838\n",
      "[ 0  1  2  3  4  5  6  7  8  9 10 11 12 13 14 15 16 17 18 19 20 21 22 23\n",
      " 24 25 26 27 28 29 30 31 32 33 34 35 36 37 38 39 40 41 42 43 44 45 46 47\n",
      " 48 49]\n",
      "-549.0154714647688\n",
      "-475.4478417619175\n",
      "-1048.6383291100785\n",
      "4\n",
      "hc\n",
      "sa\n",
      "ga\n",
      "mimic\n"
     ]
    },
    {
     "data": {
      "text/plain": [
       "<Figure size 640x480 with 1 Axes>"
      ]
     },
     "metadata": {},
     "output_type": "display_data"
    }
   ],
   "source": [
    "# Generate points for TSP\n",
    "import random\n",
    "N = 50\n",
    "length = 50\n",
    "coords_list =[(random.randrange(0, N), random.randrange(0, N)) for i in range(length)]\n",
    "\n",
    "schedule = mlrose.ExpDecay()\n",
    "\n",
    "from mlrose.fitness import TravellingSales\n",
    "import math\n",
    "\n",
    "class TravellingSalesMax(TravellingSales):\n",
    "    def evaluate(self, state):\n",
    "        result = super().evaluate(state)\n",
    "        return result * -1\n",
    "\n",
    "fitness_coords = TravellingSalesMax(coords = coords_list)\n",
    "problem_fit_max = mlrose.TSPOpt(length = length, fitness_fn = fitness_coords,\n",
    "                            maximize=True)\n",
    "\n",
    "max_iteration = 2000\n",
    "max_attempts = 100\n",
    "\n",
    "init_state=np.arange(length)\n",
    "fitness_scores = {\n",
    "    'hc': [],\n",
    "    'sa': [],\n",
    "    'ga': [],\n",
    "    'mimic': [],\n",
    "}\n",
    "\n",
    "print(max_iteration)\n",
    "\n",
    "print(fitness_scores)\n",
    "print(init_state)\n",
    "\n",
    "best_state, best_fitness, curve  = mlrose.random_hill_climb(problem_fit_max, max_attempts=max_attempts, \n",
    "                                                            max_iters=max_iteration, \n",
    "                                                            init_state=np.arange(length), curve=True, random_state=1)\n",
    "fitness_scores['hc']=curve\n",
    "print(best_fitness)\n",
    "\n",
    "print(init_state)\n",
    "best_state, best_fitness, curve = mlrose.simulated_annealing(problem_fit_max, schedule = schedule,curve=True,\n",
    "                                                          max_attempts=max_attempts, max_iters=max_iteration,\n",
    "                                                          init_state=init_state, random_state = 1)\n",
    "fitness_scores['sa'] = curve\n",
    "print(best_fitness)\n",
    "\n",
    "best_state, best_fitness, curve = mlrose.genetic_alg(problem_fit_max, random_state=1, mutation_prob=0.3,\n",
    "                                                     curve=True, max_attempts=max_attempts, max_iters=max_iteration)\n",
    "fitness_scores['ga']=curve\n",
    "print(best_fitness)\n",
    "\n",
    "best_state, best_fitness, curve = mlrose.mimic(problem_fit_max, max_attempts=max_attempts, max_iters=max_iteration,\n",
    "                                          random_state = 1, curve=True)\n",
    "fitness_scores['mimic']=curve\n",
    "print(best_fitness)\n",
    "\n",
    "import matplotlib.pyplot as plt\n",
    "\n",
    "def plot_chart(fitness, title, chart_name):\n",
    "    plt.style.use('seaborn-whitegrid')\n",
    "    plt.xlabel('fitness function', fontsize=10)\n",
    "    plt.ylabel('number of iteration', fontsize=10)\n",
    "    plt.title(title)\n",
    "    print(len(fitness))\n",
    "    for key in fitness.keys():\n",
    "        print(key)\n",
    "        plt.plot(fitness[key], label=key)\n",
    "    plt.legend(loc='lower right')\n",
    "    plt.savefig(chart_name, dpi=200)\n",
    "    plt.show()\n",
    "    plt.close()\n",
    "    \n"
   ]
  },
  {
   "cell_type": "markdown",
   "metadata": {},
   "source": [
    "## plot"
   ]
  },
  {
   "cell_type": "code",
   "execution_count": 4,
   "metadata": {},
   "outputs": [
    {
     "name": "stdout",
     "output_type": "stream",
     "text": [
      "4\n",
      "hc\n",
      "sa\n",
      "ga\n",
      "mimic\n"
     ]
    },
    {
     "data": {
      "image/png": "[encoded data removed]",
      "text/plain": [
       "<Figure size 432x288 with 1 Axes>"
      ]
     },
     "metadata": {},
     "output_type": "display_data"
    }
   ],
   "source": [
    "plot_chart(fitness_scores,\"TSP optimization\", 'TSP_optimization')\n"
   ]
  },
  {
   "cell_type": "code",
   "execution_count": null,
   "metadata": {},
   "outputs": [],
   "source": []
  }
 ],
 "metadata": {
  "kernelspec": {
   "display_name": "Python 3",
   "language": "python",
   "name": "python3"
  },
  "language_info": {
   "codemirror_mode": {
    "name": "ipython",
    "version": 3
   },
   "file_extension": ".py",
   "mimetype": "text/x-python",
   "name": "python",
   "nbconvert_exporter": "python",
   "pygments_lexer": "ipython3",
   "version": "3.7.3"
  }
 },
 "nbformat": 4,
 "nbformat_minor": 2
}
